{
 "cells": [
  {
   "cell_type": "code",
   "execution_count": 27,
   "metadata": {},
   "outputs": [],
   "source": [
    "import pandas as pd\n",
    "from datetime import datetime, timedelta"
   ]
  },
  {
   "cell_type": "markdown",
   "metadata": {},
   "source": [
    "Question 1 :"
   ]
  },
  {
   "cell_type": "code",
   "execution_count": 25,
   "metadata": {},
   "outputs": [
    {
     "data": {
      "text/plain": [
       "0    1000.0\n",
       "1    1000.0\n",
       "2    1200.0\n",
       "3    1500.0\n",
       "4    1250.0\n",
       "5    1250.0\n",
       "6    1200.0\n",
       "7    1100.0\n",
       "8    1100.0\n",
       "Name: value, dtype: float64"
      ]
     },
     "execution_count": 25,
     "metadata": {},
     "output_type": "execute_result"
    }
   ],
   "source": [
    "\n",
    "def fill_value(df):\n",
    "  return df.groupby('client_id')['value'].transform(pd.Series.fillna, method='ffill')\n",
    "\n",
    "clients = {\"client_id\" : [1001, 1001, 1001, 1002, 1002, 1002, 1003, 1003, 1003], \"ranking\" : [1, 2, 3, 1, 2, 3, 1, 2, 3], \"value\" : [1000, None, 1200, 1500, 1250, None, 1200, 1100, None]}\n",
    "df = pd.DataFrame(clients)\n",
    "\n",
    "# Fill NaN values\n",
    "df_fill = fill_value(df.copy())\n",
    "\n",
    "df_fill\n"
   ]
  },
  {
   "cell_type": "markdown",
   "metadata": {},
   "source": [
    "Question 2 :"
   ]
  },
  {
   "cell_type": "code",
   "execution_count": 28,
   "metadata": {},
   "outputs": [
    {
     "data": {
      "text/plain": [
       "[['2023-01-01', '2023-01-02', '2023-01-03'],\n",
       " ['2024-02-01', '2024-02-02'],\n",
       " ['2024-02-05']]"
      ]
     },
     "execution_count": 28,
     "metadata": {},
     "output_type": "execute_result"
    }
   ],
   "source": [
    "def group_by_week(timestamps):\n",
    "  weeks = []\n",
    "  week_start = datetime.strptime(timestamps[0], '%Y-%m-%d')\n",
    "  current_week = []\n",
    "  for timestamp in timestamps:\n",
    "    date = datetime.strptime(timestamp, '%Y-%m-%d')\n",
    "    # Check if the current timestamp falls within the current week\n",
    "    if date <= week_start + timedelta(days=6):\n",
    "      current_week.append(timestamp)\n",
    "    else:\n",
    "      weeks.append(current_week)\n",
    "      current_week = [timestamp]\n",
    "      week_start = date - timedelta(days=date.weekday())  # Reset week_start\n",
    "  # Add the last week if any timestamps remain\n",
    "  if current_week:\n",
    "    weeks.append(current_week)\n",
    "  return weeks\n",
    "\n",
    "# Example usage\n",
    "timestamps = ['2023-01-01', '2023-01-02', '2023-01-03', '2024-02-01', '2024-02-02', '2024-02-05']\n",
    "grouped_weeks = group_by_week(timestamps)\n",
    "grouped_weeks\n"
   ]
  },
  {
   "cell_type": "markdown",
   "metadata": {},
   "source": [
    "Question 3 :"
   ]
  },
  {
   "cell_type": "code",
   "execution_count": 23,
   "metadata": {},
   "outputs": [
    {
     "data": {
      "text/html": [
       "<div>\n",
       "<style scoped>\n",
       "    .dataframe tbody tr th:only-of-type {\n",
       "        vertical-align: middle;\n",
       "    }\n",
       "\n",
       "    .dataframe tbody tr th {\n",
       "        vertical-align: top;\n",
       "    }\n",
       "\n",
       "    .dataframe thead th {\n",
       "        text-align: right;\n",
       "    }\n",
       "</style>\n",
       "<table border=\"1\" class=\"dataframe\">\n",
       "  <thead>\n",
       "    <tr style=\"text-align: right;\">\n",
       "      <th></th>\n",
       "      <th>transaction_id</th>\n",
       "      <th>product_id</th>\n",
       "      <th>amount</th>\n",
       "      <th>price</th>\n",
       "      <th>total_value</th>\n",
       "    </tr>\n",
       "  </thead>\n",
       "  <tbody>\n",
       "    <tr>\n",
       "      <th>1</th>\n",
       "      <td>2</td>\n",
       "      <td>102</td>\n",
       "      <td>5</td>\n",
       "      <td>21.0</td>\n",
       "      <td>105.0</td>\n",
       "    </tr>\n",
       "    <tr>\n",
       "      <th>2</th>\n",
       "      <td>3</td>\n",
       "      <td>103</td>\n",
       "      <td>8</td>\n",
       "      <td>15.0</td>\n",
       "      <td>120.0</td>\n",
       "    </tr>\n",
       "    <tr>\n",
       "      <th>4</th>\n",
       "      <td>5</td>\n",
       "      <td>105</td>\n",
       "      <td>2</td>\n",
       "      <td>52.0</td>\n",
       "      <td>104.0</td>\n",
       "    </tr>\n",
       "  </tbody>\n",
       "</table>\n",
       "</div>"
      ],
      "text/plain": [
       "   transaction_id  product_id  amount  price  total_value\n",
       "1               2         102       5   21.0        105.0\n",
       "2               3         103       8   15.0        120.0\n",
       "4               5         105       2   52.0        104.0"
      ]
     },
     "execution_count": 23,
     "metadata": {},
     "output_type": "execute_result"
    }
   ],
   "source": [
    "def filter_transac(transactions, products):\n",
    "  # Merge transactions and products on product_id to get product prices\n",
    "  df = transactions.merge(products, on='product_id')\n",
    "\n",
    "  # Calculate total value per transaction (amount * price)\n",
    "  df['total_value'] = df['amount'] * df['price']\n",
    "\n",
    "  # Filter transactions with total value over $100\n",
    "  filtered_df = df[df['total_value'] > 100]\n",
    "\n",
    "  return filtered_df\n",
    "\n",
    "# Sample DataFrames provided\n",
    "transactions = {\"transaction_id\" : [1, 2, 3, 4, 5], \"product_id\" : [101, 102, 103, 104, 105], \"amount\" : [3, 5, 8, 3, 2]}\n",
    "products = {\"product_id\" : [101, 102, 103, 104, 105], \"price\" : [20.00, 21.00, 15.00, 16.00, 52.00]}\n",
    "df_transac = pd.DataFrame(transactions)\n",
    "df_prod = pd.DataFrame(products)\n",
    "\n",
    "# Filter transactions with total value over $100\n",
    "result = filter_transac(df_transac.copy(), df_prod.copy())\n",
    "\n",
    "# result\n",
    "result"
   ]
  }
 ],
 "metadata": {
  "kernelspec": {
   "display_name": "Python 3",
   "language": "python",
   "name": "python3"
  },
  "language_info": {
   "codemirror_mode": {
    "name": "ipython",
    "version": 3
   },
   "file_extension": ".py",
   "mimetype": "text/x-python",
   "name": "python",
   "nbconvert_exporter": "python",
   "pygments_lexer": "ipython3",
   "version": "3.10.11"
  }
 },
 "nbformat": 4,
 "nbformat_minor": 2
}
